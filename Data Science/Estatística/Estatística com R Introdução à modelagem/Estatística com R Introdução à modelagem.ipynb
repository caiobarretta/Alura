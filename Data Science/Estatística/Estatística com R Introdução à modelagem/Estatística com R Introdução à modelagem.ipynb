{
 "cells": [
  {
   "cell_type": "code",
   "execution_count": 1,
   "id": "f98bf02f",
   "metadata": {},
   "outputs": [
    {
     "name": "stderr",
     "output_type": "stream",
     "text": [
      "also installing the dependencies ‘misc3d’, ‘locfit’, ‘ash’, ‘FNN’, ‘kernlab’, ‘mclust’, ‘multicool’, ‘plot3D’, ‘hdrcde’, ‘ks’, ‘rainbow’, ‘DEoptimR’, ‘pcaPP’, ‘fds’, ‘bitops’, ‘leaps’, ‘robustbase’, ‘inline’, ‘rrcov’, ‘fda’, ‘RCurl’, ‘XML’, ‘tis’, ‘jpeg’, ‘TeachingDemos’, ‘BMA’, ‘mvtnorm’, ‘Ecfun’\n",
      "\n",
      "Updating HTML index of packages in '.Library'\n",
      "Making 'packages.html' ... done\n"
     ]
    }
   ],
   "source": [
    "install.packages(\"Ecdat\") # Se necessário"
   ]
  },
  {
   "cell_type": "code",
   "execution_count": 4,
   "id": "fc6fb136",
   "metadata": {},
   "outputs": [],
   "source": [
    "library(Ecdat) # Carrega pacote Ecdat"
   ]
  },
  {
   "cell_type": "code",
   "execution_count": 6,
   "id": "3374d87b",
   "metadata": {},
   "outputs": [],
   "source": [
    "data(Airq) # Carregando banco de dados do pacote"
   ]
  },
  {
   "cell_type": "code",
   "execution_count": 7,
   "id": "3436531f",
   "metadata": {},
   "outputs": [
    {
     "data": {
      "text/html": [
       "<ol class=list-inline>\n",
       "\t<li>'airq'</li>\n",
       "\t<li>'vala'</li>\n",
       "\t<li>'rain'</li>\n",
       "\t<li>'coas'</li>\n",
       "\t<li>'dens'</li>\n",
       "\t<li>'medi'</li>\n",
       "</ol>\n"
      ],
      "text/latex": [
       "\\begin{enumerate*}\n",
       "\\item 'airq'\n",
       "\\item 'vala'\n",
       "\\item 'rain'\n",
       "\\item 'coas'\n",
       "\\item 'dens'\n",
       "\\item 'medi'\n",
       "\\end{enumerate*}\n"
      ],
      "text/markdown": [
       "1. 'airq'\n",
       "2. 'vala'\n",
       "3. 'rain'\n",
       "4. 'coas'\n",
       "5. 'dens'\n",
       "6. 'medi'\n",
       "\n",
       "\n"
      ],
      "text/plain": [
       "[1] \"airq\" \"vala\" \"rain\" \"coas\" \"dens\" \"medi\""
      ]
     },
     "metadata": {},
     "output_type": "display_data"
    }
   ],
   "source": [
    "names(Airq) # exibe os nomes das variáveis do banco"
   ]
  },
  {
   "cell_type": "code",
   "execution_count": 11,
   "id": "01150dc4",
   "metadata": {
    "scrolled": false
   },
   "outputs": [
    {
     "name": "stdout",
     "output_type": "stream",
     "text": [
      "   airq    vala  rain coas     dens  medi\n",
      "1   104  2734.4 12.63  yes  1815.86  4397\n",
      "2    85  2479.2 47.14  yes   804.86  5667\n",
      "3   127  4845.0 42.77  yes  1907.86 15817\n",
      "4   145 19733.8 33.18   no  1876.08 32698\n",
      "5    84  4093.6 34.55  yes   340.93  6250\n",
      "6   135  1849.8 14.81   no   335.52  4705\n",
      "7    88  4179.4 45.94  yes   315.78  7165\n",
      "8   118  2525.3 39.25   no   360.39  4472\n",
      "9    74  1899.2 42.36  yes 12957.50  2658\n",
      "10  104 15257.1 12.63  yes  1728.19 33885\n",
      "11   64  1219.0 59.76  yes   620.96  5160\n",
      "12   75   992.9 53.90  yes   529.62  3738\n",
      "13  131 15120.8 42.37  yes  5397.47 59460\n",
      "14  129  9189.9 42.48  yes  1356.04 19224\n",
      "15   84  1596.9 37.18  yes   276.44  3944\n",
      "16  165  4157.3 36.14  yes   787.47  9281\n",
      "17   80  1185.2 12.63  yes   318.63  5012\n",
      "18   59  3817.7 18.69  yes  1255.04 15710\n",
      "19  110  1686.2 35.35   no   750.28  2509\n",
      "20  120  1322.0 35.08  yes   325.36  2627\n",
      "21  118  3476.2 43.05  yes   916.78  8019\n",
      "22  120  1123.8 68.13  yes   271.59  2425\n",
      "23  120  1151.6 35.35   no   645.83  1364\n",
      "24   59  2896.3 18.69  yes   819.23  4155\n",
      "25   74  5608.6 42.36  yes  2649.07  8947\n",
      "26  124  3700.0 29.51   no  9642.86  5952\n",
      "27   69  1395.5 42.92  yes  1105.55  4146\n",
      "28  118  3022.8 41.32   no   910.79  3207\n",
      "29  129  1515.4 31.22   no   379.58   853\n",
      "30  129  1878.9 30.95   no   455.92   853\n"
     ]
    }
   ],
   "source": [
    "print(Airq)"
   ]
  },
  {
   "cell_type": "code",
   "execution_count": 10,
   "id": "3e8492dc",
   "metadata": {},
   "outputs": [
    {
     "data": {
      "text/html": [
       "<table>\n",
       "<thead><tr><th scope=col>airq</th><th scope=col>vala</th><th scope=col>rain</th><th scope=col>coas</th><th scope=col>dens</th><th scope=col>medi</th></tr></thead>\n",
       "<tbody>\n",
       "\t<tr><td>104    </td><td> 2734.4</td><td>12.63  </td><td>yes    </td><td>1815.86</td><td> 4397  </td></tr>\n",
       "\t<tr><td> 85    </td><td> 2479.2</td><td>47.14  </td><td>yes    </td><td> 804.86</td><td> 5667  </td></tr>\n",
       "\t<tr><td>127    </td><td> 4845.0</td><td>42.77  </td><td>yes    </td><td>1907.86</td><td>15817  </td></tr>\n",
       "\t<tr><td>145    </td><td>19733.8</td><td>33.18  </td><td>no     </td><td>1876.08</td><td>32698  </td></tr>\n",
       "\t<tr><td> 84    </td><td> 4093.6</td><td>34.55  </td><td>yes    </td><td> 340.93</td><td> 6250  </td></tr>\n",
       "\t<tr><td>135    </td><td> 1849.8</td><td>14.81  </td><td>no     </td><td> 335.52</td><td> 4705  </td></tr>\n",
       "</tbody>\n",
       "</table>\n"
      ],
      "text/latex": [
       "\\begin{tabular}{r|llllll}\n",
       " airq & vala & rain & coas & dens & medi\\\\\n",
       "\\hline\n",
       "\t 104     &  2734.4 & 12.63   & yes     & 1815.86 &  4397  \\\\\n",
       "\t  85     &  2479.2 & 47.14   & yes     &  804.86 &  5667  \\\\\n",
       "\t 127     &  4845.0 & 42.77   & yes     & 1907.86 & 15817  \\\\\n",
       "\t 145     & 19733.8 & 33.18   & no      & 1876.08 & 32698  \\\\\n",
       "\t  84     &  4093.6 & 34.55   & yes     &  340.93 &  6250  \\\\\n",
       "\t 135     &  1849.8 & 14.81   & no      &  335.52 &  4705  \\\\\n",
       "\\end{tabular}\n"
      ],
      "text/markdown": [
       "\n",
       "| airq | vala | rain | coas | dens | medi |\n",
       "|---|---|---|---|---|---|\n",
       "| 104     |  2734.4 | 12.63   | yes     | 1815.86 |  4397   |\n",
       "|  85     |  2479.2 | 47.14   | yes     |  804.86 |  5667   |\n",
       "| 127     |  4845.0 | 42.77   | yes     | 1907.86 | 15817   |\n",
       "| 145     | 19733.8 | 33.18   | no      | 1876.08 | 32698   |\n",
       "|  84     |  4093.6 | 34.55   | yes     |  340.93 |  6250   |\n",
       "| 135     |  1849.8 | 14.81   | no      |  335.52 |  4705   |\n",
       "\n"
      ],
      "text/plain": [
       "  airq vala    rain  coas dens    medi \n",
       "1 104   2734.4 12.63 yes  1815.86  4397\n",
       "2  85   2479.2 47.14 yes   804.86  5667\n",
       "3 127   4845.0 42.77 yes  1907.86 15817\n",
       "4 145  19733.8 33.18 no   1876.08 32698\n",
       "5  84   4093.6 34.55 yes   340.93  6250\n",
       "6 135   1849.8 14.81 no    335.52  4705"
      ]
     },
     "metadata": {},
     "output_type": "display_data"
    }
   ],
   "source": [
    "head(Airq)"
   ]
  },
  {
   "cell_type": "markdown",
   "id": "8ccc4f25",
   "metadata": {},
   "source": [
    "# Descrição das variáveis"
   ]
  },
  {
   "cell_type": "markdown",
   "id": "12ec772f",
   "metadata": {},
   "source": [
    "> Airq: indice de qualidade do ar (quanto menor, melhor)\n",
    "\n",
    "> vala: valor das empresas nas cidades (MIlhares de dólares)\n",
    "\n",
    "> rain: quantidade de chuva (em polegadas)\n",
    "\n",
    "> coas: posição costeira da cidade (sim ou não)\n",
    "\n",
    "> dens: densidade populacional (milha quadrada)\n",
    "\n",
    "> medi: renda média per capita (dólares)"
   ]
  },
  {
   "cell_type": "markdown",
   "id": "8d6eb6ea",
   "metadata": {},
   "source": [
    "## Análise descritiva ou exploratória"
   ]
  },
  {
   "cell_type": "code",
   "execution_count": 17,
   "id": "755b6980",
   "metadata": {},
   "outputs": [
    {
     "data": {
      "text/plain": [
       "      airq            vala              rain        coas         dens        \n",
       " Min.   : 59.0   Min.   :  992.9   Min.   :12.63   no : 9   Min.   :  271.6  \n",
       " 1st Qu.: 81.0   1st Qu.: 1535.8   1st Qu.:31.02   yes:21   1st Qu.:  365.2  \n",
       " Median :114.0   Median : 2629.8   Median :36.66            Median :  796.2  \n",
       " Mean   :104.7   Mean   : 4188.5   Mean   :36.08            Mean   : 1728.6  \n",
       " 3rd Qu.:126.2   3rd Qu.: 4141.4   3rd Qu.:42.70            3rd Qu.: 1635.2  \n",
       " Max.   :165.0   Max.   :19733.8   Max.   :68.13            Max.   :12957.5  \n",
       "      medi      \n",
       " Min.   :  853  \n",
       " 1st Qu.: 3340  \n",
       " Median : 4858  \n",
       " Mean   : 9477  \n",
       " 3rd Qu.: 8715  \n",
       " Max.   :59460  "
      ]
     },
     "metadata": {},
     "output_type": "display_data"
    }
   ],
   "source": [
    "summary(Airq) # sumário das variáveis\n",
    "# As variáveis podem ser continuas ou categóricas (divididas em categoricas)\n",
    "# a variável resposta é a qualidade do ar (airq)"
   ]
  },
  {
   "cell_type": "code",
   "execution_count": 18,
   "id": "c5b57acc",
   "metadata": {},
   "outputs": [
    {
     "data": {
      "image/png": "[encoded data removed]",
      "text/plain": [
       "plot without title"
      ]
     },
     "metadata": {},
     "output_type": "display_data"
    }
   ],
   "source": [
    "plot(airq~vala, data=Airq)"
   ]
  },
  {
   "cell_type": "markdown",
   "id": "4d8215c4",
   "metadata": {},
   "source": [
    "### Criando um modelo estatístico\n",
    "\n",
    "y (resposta) ~ (em função de) x (explicativa)\n",
    "Exemplo: y (crescimento da planta) ~ x (quantidade de adubo)\n",
    "y ~ x1 + x2 + x3 + xn\n",
    "Exemplo: y (crescimento da planta) ~ x1 (quantidade de adubo) + x2 (quantidade de lux)\n",
    "airq ~ vala + coas + rain "
   ]
  },
  {
   "cell_type": "markdown",
   "id": "8b5b165d",
   "metadata": {},
   "source": [
    "### Montando o modelo"
   ]
  },
  {
   "cell_type": "code",
   "execution_count": 22,
   "id": "dbee3c4b",
   "metadata": {},
   "outputs": [
    {
     "name": "stdout",
     "output_type": "stream",
     "text": [
      "\n",
      "Call:\n",
      "lm(formula = airq ~ vala, data = Airq)\n",
      "\n",
      "Coefficients:\n",
      "(Intercept)         vala  \n",
      "  96.451419     0.001969  \n",
      "\n"
     ]
    }
   ],
   "source": [
    "m1 <- lm(airq~vala, data=Airq) # lm (modelo linear)\n",
    "# alguns dados podem não ser lineares\n",
    "print(m1)"
   ]
  },
  {
   "cell_type": "code",
   "execution_count": 30,
   "id": "42d10b8c",
   "metadata": {
    "scrolled": true
   },
   "outputs": [
    {
     "data": {
      "text/plain": [
       "\n",
       "Call:\n",
       "lm(formula = airq ~ vala, data = Airq)\n",
       "\n",
       "Residuals:\n",
       "    Min      1Q  Median      3Q     Max \n",
       "-44.970 -22.002   7.228  20.774  60.361 \n",
       "\n",
       "Coefficients:\n",
       "             Estimate Std. Error t value Pr(>|t|)    \n",
       "(Intercept) 96.451419   6.691801  14.413 1.76e-14 ***\n",
       "vala         0.001969   0.001082   1.821   0.0794 .  \n",
       "---\n",
       "Signif. codes:  0 ‘***’ 0.001 ‘**’ 0.01 ‘*’ 0.05 ‘.’ 0.1 ‘ ’ 1\n",
       "\n",
       "Residual standard error: 26.97 on 28 degrees of freedom\n",
       "Multiple R-squared:  0.1058,\tAdjusted R-squared:  0.07391 \n",
       "F-statistic: 3.314 on 1 and 28 DF,  p-value: 0.07938\n"
      ]
     },
     "metadata": {},
     "output_type": "display_data"
    }
   ],
   "source": [
    "summary(m1) # para saber a significância do modelo\n",
    "# p-valor indica a significãncia do modelo ou da variável\n",
    "# se p-valor < 0.05 a variável é significativa\n",
    "# se p-valor for maior que 0.05 não existe o efeito esperado"
   ]
  },
  {
   "cell_type": "code",
   "execution_count": 31,
   "id": "02f8e3be",
   "metadata": {},
   "outputs": [
    {
     "data": {
      "image/png": "[encoded data removed]",
      "text/plain": [
       "plot without title"
      ]
     },
     "metadata": {},
     "output_type": "display_data"
    }
   ],
   "source": [
    "plot(airq~vala, data=Airq)"
   ]
  },
  {
   "cell_type": "markdown",
   "id": "7b873807",
   "metadata": {},
   "source": [
    "A variável \"vala\" não influencia a qualidade do ar nas cidades (\"airq\")"
   ]
  },
  {
   "cell_type": "code",
   "execution_count": 26,
   "id": "c1b96616",
   "metadata": {},
   "outputs": [],
   "source": [
    "m2<-lm(airq~coas, data=Airq)"
   ]
  },
  {
   "cell_type": "code",
   "execution_count": 29,
   "id": "1ed37b58",
   "metadata": {},
   "outputs": [
    {
     "data": {
      "text/plain": [
       "\n",
       "Call:\n",
       "lm(formula = airq ~ coas, data = Airq)\n",
       "\n",
       "Residuals:\n",
       "    Min      1Q  Median      3Q     Max \n",
       "-36.857 -15.726  -6.333  17.167  69.143 \n",
       "\n",
       "Coefficients:\n",
       "            Estimate Std. Error t value Pr(>|t|)    \n",
       "(Intercept)  125.333      8.288  15.123 5.32e-15 ***\n",
       "coasyes      -29.476      9.906  -2.976  0.00596 ** \n",
       "---\n",
       "Signif. codes:  0 ‘***’ 0.001 ‘**’ 0.01 ‘*’ 0.05 ‘.’ 0.1 ‘ ’ 1\n",
       "\n",
       "Residual standard error: 24.86 on 28 degrees of freedom\n",
       "Multiple R-squared:  0.2403,\tAdjusted R-squared:  0.2131 \n",
       "F-statistic: 8.855 on 1 and 28 DF,  p-value: 0.005965\n"
      ]
     },
     "metadata": {},
     "output_type": "display_data"
    }
   ],
   "source": [
    "summary(m2)"
   ]
  },
  {
   "cell_type": "markdown",
   "id": "dbbab933",
   "metadata": {},
   "source": [
    "A variável \"coas\" influencia na qualidade do ar (airq)"
   ]
  },
  {
   "cell_type": "code",
   "execution_count": 32,
   "id": "ccfd6242",
   "metadata": {},
   "outputs": [
    {
     "data": {
      "image/png": "[encoded data removed]",
      "text/plain": [
       "plot without title"
      ]
     },
     "metadata": {},
     "output_type": "display_data"
    }
   ],
   "source": [
    "plot(airq~coas, data=Airq)"
   ]
  },
  {
   "cell_type": "code",
   "execution_count": null,
   "id": "51e5c944",
   "metadata": {},
   "outputs": [],
   "source": []
  }
 ],
 "metadata": {
  "kernelspec": {
   "display_name": "R",
   "language": "R",
   "name": "ir"
  },
  "language_info": {
   "codemirror_mode": "r",
   "file_extension": ".r",
   "mimetype": "text/x-r-source",
   "name": "R",
   "pygments_lexer": "r",
   "version": "3.6.1"
  }
 },
 "nbformat": 4,
 "nbformat_minor": 5
}
