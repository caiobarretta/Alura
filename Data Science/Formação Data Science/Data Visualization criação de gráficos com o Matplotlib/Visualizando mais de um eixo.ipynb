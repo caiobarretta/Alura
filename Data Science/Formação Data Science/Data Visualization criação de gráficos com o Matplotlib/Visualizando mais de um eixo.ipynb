{
 "cells": [
  {
   "cell_type": "code",
   "execution_count": null,
   "metadata": {},
   "outputs": [],
   "source": [
    "import pandas as pd\n",
    "import matplotlib.pyplot as plt\n",
    "%matplotlib inline\n",
    "import datetime"
   ]
  },
  {
   "cell_type": "code",
   "execution_count": 2,
   "metadata": {},
   "outputs": [],
   "source": [
    "df = pd.read_csv('monitoramento_tempo.csv')"
   ]
  },
  {
   "cell_type": "code",
   "execution_count": null,
   "metadata": {},
   "outputs": [],
   "source": [
    "fig = plt.figure(figsize=(15,8))\n",
    "\n",
    "eixo = fig.add_axes([0,0,1,1])\n",
    "eixo2 = fig.add_axes([0.7,0.65,0.3,0.3])\n",
    "\n",
    "eixo.grid(True)\n",
    "eixo.plot(df['data'], df['temperatura'], color = 'g')\n",
    "eixo.set_xlim(datetime.datetime(2014,1,1), datetime.datetime(2015,1,1))\n",
    "eixo.set_title('Temperatura em 2014', fontsize=25, pad = 20)\n",
    "eixo.set_ylabel('Temperatura', fontsize=20)\n",
    "eixo.set_xlabel('Data', fontsize=20)\n",
    "eixo.legend(['Temperatura'], loc = 'lower right', fontsize= 15)\n",
    "\n",
    "eixo2.plot(df['data'], df['temperatura'], color = 'b')\n",
    "eixo2.legend(['Temperatura'], loc = 'lower right') \n",
    "eixo2.set_title('Temperatura 2012-2018', fontsize=15)"
   ]
  },
  {
   "cell_type": "code",
   "execution_count": null,
   "metadata": {},
   "outputs": [],
   "source": []
  }
 ],
 "metadata": {
  "kernelspec": {
   "display_name": "Python 3",
   "language": "python",
   "name": "python3"
  },
  "language_info": {
   "codemirror_mode": {
    "name": "ipython",
    "version": 3
   },
   "file_extension": ".py",
   "mimetype": "text/x-python",
   "name": "python",
   "nbconvert_exporter": "python",
   "pygments_lexer": "ipython3",
   "version": "3.8.5"
  }
 },
 "nbformat": 4,
 "nbformat_minor": 4
}
